{
 "cells": [
  {
   "cell_type": "code",
   "execution_count": 2,
   "metadata": {},
   "outputs": [
    {
     "data": {
      "text/plain": [
       "<Response [200]>"
      ]
     },
     "execution_count": 2,
     "metadata": {},
     "output_type": "execute_result"
    }
   ],
   "source": [
    "import requests \n",
    "import json \n",
    "\n",
    "def log_in:  \n",
    "    start_url = \"http://www.newsedge.com/opensapi/20/session/getactivesessions?name=mick.endsor@digital-insight.com&password=a9f78da238685fc57286df70440727a0\n",
    "    response = requests.get(start_url)\n",
    "    response\n",
    "    \n",
    "    \n",
    "    \n",
    "    \n",
    "    \n",
    "    \n",
    "    \n",
    "    \n",
    "    \n",
    "    \n",
    "    \n",
    "    \n",
    "    \n",
    "    \n",
    "    \n",
    "    \n",
    "    \n",
    "    "
   ]
  },
  {
   "cell_type": "code",
   "execution_count": 4,
   "metadata": {},
   "outputs": [
    {
     "name": "stdout",
     "output_type": "stream",
     "text": [
      "b'<?xml version=\"1.0\" encoding=\"UTF-8\"?>\\n<opens-api>\\n<status>OK</status>\\n<uid>26177</uid>\\n<active-tokens>\\n<user-token>337D5770F14D96D4F5317057CA0FAAA9</user-token>\\n</active-tokens>\\n</opens-api>\\n'\n"
     ]
    }
   ],
   "source": [
    "token = \"337D5770F14D96D4F5317057CA0FAAA9\"\n",
    "print(response.content)"
   ]
  },
  {
   "cell_type": "code",
   "execution_count": 11,
   "metadata": {},
   "outputs": [
    {
     "name": "stdout",
     "output_type": "stream",
     "text": [
      "<?xml version=\"1.0\" encoding=\"UTF-8\"?>\n",
      "<opens-api>\n",
      "<status>OK</status>\n",
      "<api-list>\n",
      "<api>\n",
      "<name>api/info</name>\n",
      "<desc></desc>\n",
      "</api>\n",
      "<api>\n",
      "<name>api/list</name>\n",
      "<desc></desc>\n",
      "</api>\n",
      "<api>\n",
      "<name>company/search</name>\n",
      "<desc></desc>\n",
      "</api>\n",
      "<api>\n",
      "<name>dictionary/search</name>\n",
      "<desc></desc>\n",
      "</api>\n",
      "<api>\n",
      "<name>geography/search</name>\n",
      "<desc></desc>\n",
      "</api>\n",
      "<api>\n",
      "<name>industry/search</name>\n",
      "<desc></desc>\n",
      "</api>\n",
      "<api>\n",
      "<name>media/read</name>\n",
      "<desc></desc>\n",
      "</api>\n",
      "<api>\n",
      "<name>news/read</name>\n",
      "<desc></desc>\n",
      "</api>\n",
      "<api>\n",
      "<name>news/search</name>\n",
      "<desc></desc>\n",
      "</api>\n",
      "<api>\n",
      "<name>people/search</name>\n",
      "<desc></desc>\n",
      "</api>\n",
      "<api>\n",
      "<name>savedsearch/info</name>\n",
      "<desc></desc>\n",
      "</api>\n",
      "<api>\n",
      "<name>savedsearch/list</name>\n",
      "<desc></desc>\n",
      "</api>\n",
      "<api>\n",
      "<name>session/clearsessions</name>\n",
      "<desc></desc>\n",
      "</api>\n",
      "<api>\n",
      "<name>session/getactivesessions</name>\n",
      "<desc></desc>\n",
      "</api>\n",
      "<api>\n",
      "<name>session/login</name>\n",
      "<desc></desc>\n",
      "</api>\n",
      "<api>\n",
      "<name>session/logout</name>\n",
      "<desc></desc>\n",
      "</api>\n",
      "<api>\n",
      "<name>source/search</name>\n",
      "<desc></desc>\n",
      "</api>\n",
      "<api>\n",
      "<name>subject/search</name>\n",
      "<desc></desc>\n",
      "</api>\n",
      "<api>\n",
      "<name>taxonomy/search</name>\n",
      "<desc></desc>\n",
      "</api>\n",
      "</api-list>\n",
      "</opens-api>\n",
      "\n"
     ]
    }
   ],
   "source": [
    "#api list\n",
    "print((requests.get(\"http://www.newsedge.com/opensapi/20/api/list?session=337D5770F14D96D4F5317057CA0FAAA9\")).content.decode('utf-8'))"
   ]
  },
  {
   "cell_type": "code",
   "execution_count": null,
   "metadata": {},
   "outputs": [],
   "source": []
  }
 ],
 "metadata": {
  "kernelspec": {
   "display_name": "Python 3",
   "language": "python",
   "name": "python3"
  },
  "language_info": {
   "codemirror_mode": {
    "name": "ipython",
    "version": 3
   },
   "file_extension": ".py",
   "mimetype": "text/x-python",
   "name": "python",
   "nbconvert_exporter": "python",
   "pygments_lexer": "ipython3",
   "version": "3.7.3"
  }
 },
 "nbformat": 4,
 "nbformat_minor": 2
}
